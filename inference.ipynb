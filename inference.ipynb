{
  "cells": [
    {
      "cell_type": "code",
      "source": [
        "from google.colab import drive\n",
        "drive.mount('/content/drive')"
      ],
      "metadata": {
        "id": "DjjY7DPxU6c3"
      },
      "id": "DjjY7DPxU6c3",
      "execution_count": null,
      "outputs": []
    },
    {
      "cell_type": "code",
      "source": [
        "!pip install -q simpletransformers"
      ],
      "metadata": {
        "id": "RRloAbeeVfKW"
      },
      "id": "RRloAbeeVfKW",
      "execution_count": null,
      "outputs": []
    },
    {
      "cell_type": "code",
      "source": [
        "import pandas as pd\n",
        "from simpletransformers.classification import ClassificationModel\n",
        "import os\n",
        "import tarfile\n",
        "import numpy as np"
      ],
      "metadata": {
        "id": "hBHUL5BnZJTl"
      },
      "id": "hBHUL5BnZJTl",
      "execution_count": 3,
      "outputs": []
    },
    {
      "cell_type": "code",
      "source": [
        "def unpack_model(model_name=''):\n",
        "  tar = tarfile.open(f\"{model_name}.tar.gz\", \"r:gz\")\n",
        "  tar.extractall()\n",
        "  tar.close()\n",
        "\n",
        "unpack_model('drive/MyDrive/bert_model')"
      ],
      "metadata": {
        "id": "QzPeluMTp6gB"
      },
      "id": "QzPeluMTp6gB",
      "execution_count": 4,
      "outputs": []
    },
    {
      "cell_type": "code",
      "source": [
        "train_args ={\"reprocess_input_data\": True,\n",
        "             \"fp16\":False,\n",
        "             \"num_train_epochs\": 15}\n",
        "\n",
        "model = ClassificationModel(\n",
        "    \"bert\", \"/bert_model/\",\n",
        "    num_labels=39,\n",
        "    args=train_args,\n",
        "    use_cuda=False\n",
        ")"
      ],
      "metadata": {
        "id": "C9ltl_GwLQdp"
      },
      "id": "C9ltl_GwLQdp",
      "execution_count": 5,
      "outputs": []
    },
    {
      "cell_type": "code",
      "source": [
        "def flatten(file):\n",
        "  return [id for ids in file for id in ids] \n",
        "\n",
        "df = pd.read_csv('test.csv', sep='|')\n",
        "\n",
        "file_id_list = []\n",
        "id_list = []\n",
        "class_list = []\n",
        "\n",
        "for i in range(2):\n",
        "  row = df.iloc[i, :].dropna()\n",
        "\n",
        "  if row[-1][:2] != '10':\n",
        "    file_id = [int(row[-1][0])] * row[:-1].shape[0]\n",
        "  \n",
        "  else: file_id = [int(row[-1][:2])] * row[:-1].shape[0]\n",
        "  \n",
        "  id = list(row[:-1].index)\n",
        "  predictions, raw_outputs = model.predict(list(row[:-1].values))\n",
        "  result = list(map(lambda x: x+1, predictions))\n",
        "  file_id_list.append(file_id)\n",
        "  id_list.append(id)\n",
        "  class_list.append(result)\n",
        "\n",
        "file_id = flatten(file_id_list)\n",
        "id = flatten(id_list)\n",
        "results = flatten(class_list)"
      ],
      "metadata": {
        "id": "FBfHchA0MrrP"
      },
      "id": "FBfHchA0MrrP",
      "execution_count": null,
      "outputs": []
    },
    {
      "cell_type": "code",
      "source": [
        "data = {'file_id': file_id, 'id': id, 'class': results}\n",
        "fin_df = pd.DataFrame(data=data).astype('int').sort_values(by=['file_id', 'id'])\n",
        "fin_df.to_csv('Liberal_Python.csv', index=False, sep=';')"
      ],
      "metadata": {
        "id": "wZRrSTRhLqbN"
      },
      "id": "wZRrSTRhLqbN",
      "execution_count": 53,
      "outputs": []
    }
  ],
  "metadata": {
    "kernelspec": {
      "display_name": "Python 3 (ipykernel)",
      "language": "python",
      "name": "python3"
    },
    "language_info": {
      "codemirror_mode": {
        "name": "ipython",
        "version": 3
      },
      "file_extension": ".py",
      "mimetype": "text/x-python",
      "name": "python",
      "nbconvert_exporter": "python",
      "pygments_lexer": "ipython3",
      "version": "3.9.7"
    },
    "colab": {
      "provenance": [],
      "name": "test",
      "collapsed_sections": []
    },
    "gpuClass": "standard"
  },
  "nbformat": 4,
  "nbformat_minor": 5
}