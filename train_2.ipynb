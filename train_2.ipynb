{
  "cells": [
    {
      "cell_type": "code",
      "source": [
        "from google.colab import drive\n",
        "drive.mount('/content/drive')"
      ],
      "metadata": {
        "colab": {
          "base_uri": "https://localhost:8080/"
        },
        "id": "DjjY7DPxU6c3",
        "outputId": "64c9674c-dc24-450d-dbd2-ed56148c85be"
      },
      "id": "DjjY7DPxU6c3",
      "execution_count": null,
      "outputs": [
        {
          "output_type": "stream",
          "name": "stdout",
          "text": [
            "Mounted at /content/drive\n"
          ]
        }
      ]
    },
    {
      "cell_type": "code",
      "source": [
        "!pip install simpletransformers"
      ],
      "metadata": {
        "id": "RRloAbeeVfKW"
      },
      "id": "RRloAbeeVfKW",
      "execution_count": null,
      "outputs": []
    },
    {
      "cell_type": "code",
      "source": [
        "import pandas as pd\n",
        "from sklearn.model_selection import train_test_split\n",
        "from simpletransformers.classification import ClassificationModel\n",
        "from sklearn.metrics import f1_score, accuracy_score\n",
        "import os\n",
        "import tarfile\n",
        "\n",
        "df = pd.read_csv('train.csv', sep='|')\n",
        "df = df.melt().dropna().rename({'value':'text', 'variable': 'label'},axis=1)\n",
        "df[\"label\"] = pd.to_numeric(df[\"label\"]) - 1\n",
        "df = pd.concat([df.iloc[:, -1], df.iloc[:, 0]], axis=1)\n",
        "\n",
        "train_df, test_df = train_test_split(df, test_size=0.1)"
      ],
      "metadata": {
        "id": "hBHUL5BnZJTl"
      },
      "id": "hBHUL5BnZJTl",
      "execution_count": null,
      "outputs": []
    },
    {
      "cell_type": "code",
      "source": [
        "train_args ={\"reprocess_input_data\": True,\n",
        "             \"fp16\":False,\n",
        "             \"num_train_epochs\": 15}\n",
        "\n",
        "model = ClassificationModel(\n",
        "    \"bert\", \"Geotrend/distilbert-base-ru-cased\",\n",
        "    num_labels=39,\n",
        "    args=train_args,\n",
        ")"
      ],
      "metadata": {
        "id": "W87wDtlDikVk"
      },
      "id": "W87wDtlDikVk",
      "execution_count": null,
      "outputs": []
    },
    {
      "cell_type": "code",
      "source": [
        "model.train_model(train_df)"
      ],
      "metadata": {
        "id": "eQwMUpgUikak"
      },
      "id": "eQwMUpgUikak",
      "execution_count": null,
      "outputs": []
    },
    {
      "cell_type": "code",
      "source": [
        "def f1_multiclass(labels, preds):\n",
        "    return f1_score(labels, preds, average='micro')\n",
        "\n",
        "result, model_outputs, wrong_predictions = model.eval_model(test_df, f1=f1_multiclass, acc=accuracy_score)"
      ],
      "metadata": {
        "id": "ZXavmRoziki4"
      },
      "id": "ZXavmRoziki4",
      "execution_count": null,
      "outputs": []
    },
    {
      "cell_type": "code",
      "source": [
        "def pack_model(model_path='',file_name=''):\n",
        "  files = [files for root, dirs, files in os.walk(model_path)][0]\n",
        "  with tarfile.open(file_name+ '.tar.gz', 'w:gz') as f:\n",
        "    for file in files:\n",
        "      f.add(f'{model_path}/{file}')\n",
        "\n",
        "pack_model('outputs','bert')"
      ],
      "metadata": {
        "id": "QzPeluMTp6gB"
      },
      "id": "QzPeluMTp6gB",
      "execution_count": null,
      "outputs": []
    }
  ],
  "metadata": {
    "kernelspec": {
      "display_name": "Python 3 (ipykernel)",
      "language": "python",
      "name": "python3"
    },
    "language_info": {
      "codemirror_mode": {
        "name": "ipython",
        "version": 3
      },
      "file_extension": ".py",
      "mimetype": "text/x-python",
      "name": "python",
      "nbconvert_exporter": "python",
      "pygments_lexer": "ipython3",
      "version": "3.9.7"
    },
    "colab": {
      "provenance": [],
      "name": "BERTa",
      "collapsed_sections": []
    },
    "gpuClass": "standard"
  },
  "nbformat": 4,
  "nbformat_minor": 5
}